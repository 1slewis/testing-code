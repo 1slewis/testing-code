{
  "nbformat": 4,
  "nbformat_minor": 0,
  "metadata": {
    "colab": {
      "name": "Untitled0.ipynb",
      "provenance": [],
      "collapsed_sections": [],
      "authorship_tag": "ABX9TyOxHDHr9pw9vOiv0qwVEwZK",
      "include_colab_link": true
    },
    "kernelspec": {
      "name": "python3",
      "display_name": "Python 3"
    },
    "language_info": {
      "name": "python"
    }
  },
  "cells": [
    {
      "cell_type": "markdown",
      "metadata": {
        "id": "view-in-github",
        "colab_type": "text"
      },
      "source": [
        "<a href=\"https://colab.research.google.com/github/1slewis/testing-python/blob/main/Untitled0.ipynb\" target=\"_parent\"><img src=\"https://colab.research.google.com/assets/colab-badge.svg\" alt=\"Open In Colab\"/></a>"
      ]
    },
    {
      "cell_type": "code",
      "source": [
        "string = \"this has more features!\"\n",
        "\n",
        "skipCharacters = []\n",
        "\n",
        "chars = list(string)\n",
        "\n",
        "def toTitle(input):\n",
        "  output = \"\"\n",
        "  i = -1\n",
        "  diff = 0\n",
        "  while i < (len(input) - 1):\n",
        "    i += 1\n",
        "    if(input[i] == \" \"):\n",
        "       diff += 1\n",
        "       output += \" \"\n",
        "       continue\n",
        "    if ((i - diff) % 2):\n",
        "      output += input[i].upper()\n",
        "      continue\n",
        "    if not((i - diff) % 2):\n",
        "      output += input[i].lower()\n",
        "      continue\n",
        "  return(output)\n",
        "\n",
        "print(toTitle(string))\n",
        "print(toTitle(chars))"
      ],
      "metadata": {
        "id": "OZAoIEvNYUsB",
        "colab": {
          "base_uri": "https://localhost:8080/"
        },
        "outputId": "83e0e1b5-41bb-4053-9d0d-ed2ae3fdf341"
      },
      "execution_count": 13,
      "outputs": [
        {
          "output_type": "stream",
          "name": "stdout",
          "text": [
            "tHiS hAs MoRe FeAtUrEs!\n",
            "tHiS hAs MoRe FeAtUrEs!\n"
          ]
        }
      ]
    }
  ]
}