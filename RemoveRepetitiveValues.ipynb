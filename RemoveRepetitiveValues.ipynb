{
  "nbformat": 4,
  "nbformat_minor": 0,
  "metadata": {
    "colab": {
      "name": "RemoveRepetitiveValues.ipynb",
      "private_outputs": true,
      "provenance": [],
      "authorship_tag": "ABX9TyNaMBvUh6+TNXr9+H0atNpn",
      "include_colab_link": true
    },
    "kernelspec": {
      "name": "python3",
      "display_name": "Python 3"
    },
    "language_info": {
      "name": "python"
    }
  },
  "cells": [
    {
      "cell_type": "markdown",
      "metadata": {
        "id": "view-in-github",
        "colab_type": "text"
      },
      "source": [
        "<a href=\"https://colab.research.google.com/github/1slewis/testing-python/blob/main/RemoveRepetitiveValues.ipynb\" target=\"_parent\"><img src=\"https://colab.research.google.com/assets/colab-badge.svg\" alt=\"Open In Colab\"/></a>"
      ]
    },
    {
      "cell_type": "code",
      "execution_count": null,
      "metadata": {
        "id": "jotK1s7ULinO"
      },
      "outputs": [],
      "source": [
        "def solution(data, n): \n",
        "    # Your code here\n",
        "    if n == 0:\n",
        "        return\n",
        "    if type(data) != type([1]):\n",
        "        return\n",
        "    if type(n) != type(1):\n",
        "        return\n",
        "    amountArr = []\n",
        "    for i in data:\n",
        "        amount = data.count(i)\n",
        "        if amount > n:\n",
        "            amountArr.append(i)\n",
        "    for i in data:\n",
        "        for j in amountArr:\n",
        "            if i == j:\n",
        "                data.remove(i)\n",
        "    return data\n",
        "print(solution([1, 2, 3], 0))\n",
        "print(solution([1, 2, 2, 3, 3, 3, 4, 5, 5], 1)) # [1,4]"
      ]
    }
  ]
}