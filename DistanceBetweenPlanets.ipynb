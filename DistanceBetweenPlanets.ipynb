{
  "nbformat": 4,
  "nbformat_minor": 0,
  "metadata": {
    "colab": {
      "name": "DistanceBetweenPlanets.ipynb",
      "private_outputs": true,
      "provenance": [],
      "authorship_tag": "ABX9TyNCbn5s+nhOmb5IrG37jk6c",
      "include_colab_link": true
    },
    "kernelspec": {
      "name": "python3",
      "display_name": "Python 3"
    },
    "language_info": {
      "name": "python"
    }
  },
  "cells": [
    {
      "cell_type": "markdown",
      "metadata": {
        "id": "view-in-github",
        "colab_type": "text"
      },
      "source": [
        "<a href=\"https://colab.research.google.com/github/1slewis/testing-code/blob/main/DistanceBetweenPlanets.ipynb\" target=\"_parent\"><img src=\"https://colab.research.google.com/assets/colab-badge.svg\" alt=\"Open In Colab\"/></a>"
      ]
    },
    {
      "cell_type": "code",
      "execution_count": null,
      "metadata": {
        "id": "jNf-GiZELFu8"
      },
      "outputs": [],
      "source": [
        "distanceFromMercury = {\n",
        "        \"Mercury\": 0,\n",
        "        \"Venus\": 50290000,\n",
        "        \"Earth\": 91691000,\n",
        "        \"Mars\": 170030000,\n",
        "        \"Jupiter\": 720420000,\n",
        "        \"Saturn\": 1366690000,\n",
        "        \"Uranus\": 2815640000,\n",
        "        \"Neptune\": 4443090000\n",
        "    }\n",
        "\n",
        "halfSpeedOfLight = 150000\n",
        "\n",
        "def solution(planetA,planetB):\n",
        "    a = distanceFromMercury[planetA]\n",
        "    b = distanceFromMercury[planetB]\n",
        "    dist = abs(a - b)\n",
        "    time = dist / halfSpeedOfLight\n",
        "    hours = (time - (time % 3600)) / 3600\n",
        "    time = time - (hours * 3600)\n",
        "    minutes = (time - (time % 60)) / 60\n",
        "    time = time - (minutes * 60)\n",
        "    seconds = (time - (time % 1))\n",
        "    time = time - seconds\n",
        "    milliseconds = (time - (time % 0.001)) * 1000 \n",
        "    if hours:\n",
        "        return (str(int(hours)) + \" hours and \" + str(int(minutes)) + \" minutes and \" + str(int(seconds)) + \" seconds and \" + str(int(milliseconds)) + \" milliseconds\")\n",
        "    return (str(int(minutes)) + \" minutes and \" + str(int(seconds)) + \" seconds and \" + str(int(milliseconds)) + \" milliseconds\")\n",
        "    \n",
        "    \n",
        "solution(\"Mercury\",\"Venus\")"
      ]
    },
    {
      "cell_type": "code",
      "source": [
        "10 % 3"
      ],
      "metadata": {
        "id": "u-3kWGcxO65p"
      },
      "execution_count": null,
      "outputs": []
    }
  ]
}