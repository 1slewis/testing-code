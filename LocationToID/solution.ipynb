{
  "nbformat": 4,
  "nbformat_minor": 0,
  "metadata": {
    "colab": {
      "name": "LocationToID.ipynb",
      "private_outputs": true,
      "provenance": [],
      "authorship_tag": "ABX9TyMeKXchaGU31XpSBedh/DD6",
      "include_colab_link": true
    },
    "kernelspec": {
      "name": "python3",
      "display_name": "Python 3"
    },
    "language_info": {
      "name": "python"
    }
  },
  "cells": [
    {
      "cell_type": "markdown",
      "metadata": {
        "id": "view-in-github",
        "colab_type": "text"
      },
      "source": [
        "<a href=\"https://colab.research.google.com/github/1slewis/testing-code/blob/main/LocationToID/solution.ipynb\" target=\"_parent\"><img src=\"https://colab.research.google.com/assets/colab-badge.svg\" alt=\"Open In Colab\"/></a>"
      ]
    },
    {
      "cell_type": "code",
      "execution_count": null,
      "metadata": {
        "id": "8U0gvyLDRu-o"
      },
      "outputs": [],
      "source": [
        "def solution(x, y):\n",
        "    # Your code here\n",
        "    ID = 1\n",
        "    diagonalLength = 1\n",
        "    xLoop = 1\n",
        "    yLoop = 1\n",
        "    condition = True\n",
        "    while condition:\n",
        "      if (xLoop == x) and (yLoop == y):\n",
        "        break\n",
        "      if yLoop == 1:\n",
        "        diagonalLength += 1\n",
        "        xLoop = 1\n",
        "        yLoop = diagonalLength\n",
        "      else:\n",
        "        xLoop += 1\n",
        "        yLoop -= 1\n",
        "      ID += 1\n",
        "    return str(ID)\n",
        "\n",
        "print(solution(5, 10)) # 96\n",
        "print(solution(3, 2)) # 9"
      ]
    }
  ]
}