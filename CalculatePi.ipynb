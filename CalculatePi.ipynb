{
  "nbformat": 4,
  "nbformat_minor": 0,
  "metadata": {
    "colab": {
      "name": "Untitled0.ipynb",
      "private_outputs": true,
      "provenance": [],
      "authorship_tag": "ABX9TyN56Bl7lyYnZ2VK/KuQ4fgU",
      "include_colab_link": true
    },
    "kernelspec": {
      "name": "python3",
      "display_name": "Python 3"
    },
    "language_info": {
      "name": "python"
    }
  },
  "cells": [
    {
      "cell_type": "markdown",
      "metadata": {
        "id": "view-in-github",
        "colab_type": "text"
      },
      "source": [
        "<a href=\"https://colab.research.google.com/github/1slewis/testing-code/blob/main/CalculatePi.ipynb\" target=\"_parent\"><img src=\"https://colab.research.google.com/assets/colab-badge.svg\" alt=\"Open In Colab\"/></a>"
      ]
    },
    {
      "cell_type": "code",
      "execution_count": null,
      "metadata": {
        "id": "vutv0DXk5cY2"
      },
      "outputs": [],
      "source": [
        "import math\n",
        "size = 1000\n",
        "inCircle = 0\n",
        "for x in range(-size//2,size//2):\n",
        "    for y in range(-size//2,size//2):\n",
        "        if math.sqrt(x ** 2 + y ** 2) < (size/2):\n",
        "            inCircle += 1\n",
        "print((inCircle/(size ** 2)) * 4)"
      ]
    }
  ]
}