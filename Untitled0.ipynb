{
  "nbformat": 4,
  "nbformat_minor": 0,
  "metadata": {
    "colab": {
      "name": "Untitled0.ipynb",
      "provenance": [],
      "collapsed_sections": [],
      "authorship_tag": "ABX9TyMlfBEkPl/L0GK17p0OBu3y",
      "include_colab_link": true
    },
    "kernelspec": {
      "name": "python3",
      "display_name": "Python 3"
    },
    "language_info": {
      "name": "python"
    }
  },
  "cells": [
    {
      "cell_type": "markdown",
      "metadata": {
        "id": "view-in-github",
        "colab_type": "text"
      },
      "source": [
        "<a href=\"https://colab.research.google.com/github/1slewis/testing-python/blob/main/Untitled0.ipynb\" target=\"_parent\"><img src=\"https://colab.research.google.com/assets/colab-badge.svg\" alt=\"Open In Colab\"/></a>"
      ]
    },
    {
      "cell_type": "code",
      "source": [
        "string = \"this is more concise and cleaner!\"\n",
        "\n",
        "chars = list(string)\n",
        "\n",
        "def toTitle(input):\n",
        "  output = \"\"\n",
        "  i = -1\n",
        "  diff = 0\n",
        "  while i < (len(input) - 1):\n",
        "    i += 1\n",
        "    if(input[i] == \" \"):\n",
        "       diff += 1\n",
        "       output += \" \"\n",
        "       continue\n",
        "    if ((i - diff) % 2):\n",
        "      output += input[i].upper()\n",
        "      continue\n",
        "    if not((i - diff) % 2):\n",
        "      output += input[i].lower()\n",
        "      continue\n",
        "  return(output)\n",
        "\n",
        "print(toTitle(string))"
      ],
      "metadata": {
        "id": "OZAoIEvNYUsB",
        "colab": {
          "base_uri": "https://localhost:8080/"
        },
        "outputId": "e63c1ece-e28d-455a-9eb2-30c0c75c284a"
      },
      "execution_count": 11,
      "outputs": [
        {
          "output_type": "stream",
          "name": "stdout",
          "text": [
            "tHiS iS mOrE cOnCiSe AnD cLeAnEr!\n"
          ]
        }
      ]
    }
  ]
}