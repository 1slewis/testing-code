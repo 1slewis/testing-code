{
  "nbformat": 4,
  "nbformat_minor": 0,
  "metadata": {
    "colab": {
      "name": "LocationToID.ipynb",
      "private_outputs": true,
      "provenance": [],
      "collapsed_sections": [],
      "authorship_tag": "ABX9TyMh/r62zuFVKBGPVrV2k+AQ",
      "include_colab_link": true
    },
    "kernelspec": {
      "name": "python3",
      "display_name": "Python 3"
    },
    "language_info": {
      "name": "python"
    }
  },
  "cells": [
    {
      "cell_type": "markdown",
      "metadata": {
        "id": "view-in-github",
        "colab_type": "text"
      },
      "source": [
        "<a href=\"https://colab.research.google.com/github/1slewis/testing-code/blob/main/LocationToID/solution.ipynb\" target=\"_parent\"><img src=\"https://colab.research.google.com/assets/colab-badge.svg\" alt=\"Open In Colab\"/></a>"
      ]
    },
    {
      "cell_type": "code",
      "execution_count": null,
      "metadata": {
        "id": "8U0gvyLDRu-o"
      },
      "outputs": [],
      "source": [
        "def solution(x, y, useMethod1 = True):\n",
        "    # Your code here\n",
        "    n = (x + y - 2)\n",
        "    result = (n * (n + 1)) / 2\n",
        "    return str(int(result + x))\n",
        "\n",
        "print(solution(5, 10)) # 96\n",
        "print(solution(3, 2)) # 9"
      ]
    }
  ]
}
