{
  "nbformat": 4,
  "nbformat_minor": 0,
  "metadata": {
    "colab": {
      "name": "Untitled0.ipynb",
      "provenance": [],
      "collapsed_sections": [],
      "authorship_tag": "ABX9TyNFPg6m3D0zTYqLTS8qVh4E",
      "include_colab_link": true
    },
    "kernelspec": {
      "name": "python3",
      "display_name": "Python 3"
    },
    "language_info": {
      "name": "python"
    }
  },
  "cells": [
    {
      "cell_type": "markdown",
      "metadata": {
        "id": "view-in-github",
        "colab_type": "text"
      },
      "source": [
        "<a href=\"https://colab.research.google.com/github/1slewis/testing-python/blob/main/Untitled0.ipynb\" target=\"_parent\"><img src=\"https://colab.research.google.com/assets/colab-badge.svg\" alt=\"Open In Colab\"/></a>"
      ]
    },
    {
      "cell_type": "code",
      "source": [
        "string = \"this is more concise and cleaner\"\n",
        "\n",
        "chars = list(string)\n",
        "\n",
        "def toTitle(input):\n",
        "  output = \"\"\n",
        "  diff\n",
        "  while i <= len(input):\n",
        "    if( input[i] == \" \"):\n",
        "       \n",
        "    if (counter % 2):\n",
        "      input\n",
        "  return(output)\n",
        "\n",
        "print(toTitle())"
      ],
      "metadata": {
        "id": "OZAoIEvNYUsB"
      },
      "execution_count": null,
      "outputs": []
    }
  ]
}